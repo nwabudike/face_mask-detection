{
 "cells": [
  {
   "cell_type": "markdown",
   "metadata": {},
   "source": [
    "## importing neccesary libraries "
   ]
  },
  {
   "cell_type": "code",
   "execution_count": 5,
   "metadata": {},
   "outputs": [],
   "source": [
    "import pandas as pd \n",
    "import numpy as np\n",
    "import matplotlib.pyplot as plt\n",
    "from keras.preprocessing.image import ImageDataGenerator\n",
    "import tensorflow as tf"
   ]
  },
  {
   "cell_type": "markdown",
   "metadata": {},
   "source": [
    "## spliting the folder to have test and train folder"
   ]
  },
  {
   "cell_type": "code",
   "execution_count": 6,
   "metadata": {},
   "outputs": [],
   "source": [
    "#pip install split-folders"
   ]
  },
  {
   "cell_type": "code",
   "execution_count": 7,
   "metadata": {},
   "outputs": [],
   "source": [
    "import splitfolders"
   ]
  },
  {
   "cell_type": "code",
   "execution_count": 9,
   "metadata": {},
   "outputs": [],
   "source": [
    "splitfolders.ratio('Data',output='output',seed=1337,ratio=(.7,0.1,0.2))"
   ]
  },
  {
   "cell_type": "markdown",
   "metadata": {},
   "source": [
    "## preprocessing the images(argumentation)"
   ]
  },
  {
   "cell_type": "code",
   "execution_count": 10,
   "metadata": {},
   "outputs": [],
   "source": [
    "train_gen=ImageDataGenerator(rescale=1./255,shear_range=0.2,horizontal_flip=True,zoom_range=0.2)\n",
    "test_gen=ImageDataGenerator(rescale=1./255)\n"
   ]
  },
  {
   "cell_type": "markdown",
   "metadata": {},
   "source": [
    "## connecting the imageGenerator to our train and test folder"
   ]
  },
  {
   "cell_type": "code",
   "execution_count": 11,
   "metadata": {},
   "outputs": [
    {
     "name": "stdout",
     "output_type": "stream",
     "text": [
      "Found 5286 images belonging to 2 classes.\n",
      "Found 1513 images belonging to 2 classes.\n"
     ]
    }
   ],
   "source": [
    "train_set=train_gen.flow_from_directory('output/train', target_size=(150,150),batch_size=32,class_mode='binary')\n",
    "test_set=test_gen.flow_from_directory('output/test', target_size=(150,150),batch_size=32,class_mode='binary')"
   ]
  },
  {
   "cell_type": "markdown",
   "metadata": {},
   "source": [
    "## model building"
   ]
  },
  {
   "cell_type": "code",
   "execution_count": 15,
   "metadata": {},
   "outputs": [
    {
     "name": "stdout",
     "output_type": "stream",
     "text": [
      "Epoch 1/5\n",
      "166/166 [==============================] - 406s 2s/step - loss: 0.6172 - accuracy: 0.6612 - val_loss: 0.4465 - val_accuracy: 0.8447\n",
      "Epoch 2/5\n",
      "166/166 [==============================] - 406s 2s/step - loss: 0.3754 - accuracy: 0.8420 - val_loss: 0.2945 - val_accuracy: 0.8810\n",
      "Epoch 3/5\n",
      "166/166 [==============================] - 407s 2s/step - loss: 0.3168 - accuracy: 0.8733 - val_loss: 0.3239 - val_accuracy: 0.8665\n",
      "Epoch 4/5\n",
      "166/166 [==============================] - 408s 2s/step - loss: 0.2913 - accuracy: 0.8785 - val_loss: 0.2653 - val_accuracy: 0.8883\n",
      "Epoch 5/5\n",
      "166/166 [==============================] - 414s 2s/step - loss: 0.2839 - accuracy: 0.8812 - val_loss: 0.2470 - val_accuracy: 0.8956\n"
     ]
    },
    {
     "data": {
      "text/plain": [
       "<keras.callbacks.History at 0x148941c0>"
      ]
     },
     "execution_count": 15,
     "metadata": {},
     "output_type": "execute_result"
    }
   ],
   "source": [
    "model=tf.keras.Sequential()\n",
    "model.add(tf.keras.layers.Conv2D(filters=32,input_shape=(150,150,3),kernel_size=3,activation='relu'))\n",
    "model.add(tf.keras.layers.MaxPool2D(pool_size=2,strides=2))\n",
    "model.add(tf.keras.layers.Conv2D(filters=32,input_shape=(150,150,3),kernel_size=3,activation='relu'))\n",
    "model.add(tf.keras.layers.MaxPool2D(pool_size=2,strides=2))\n",
    "model.add(tf.keras.layers.Conv2D(filters=32,input_shape=(150,150,3),kernel_size=3,activation='relu'))\n",
    "model.add(tf.keras.layers.MaxPool2D(pool_size=2,strides=2))\n",
    "model.add(tf.keras.layers.Flatten())\n",
    "model.add(tf.keras.layers.Dense(units=128,activation='relu'))\n",
    "model.add(tf.keras.layers.Dense(1,activation='sigmoid'))\n",
    "\n",
    "\n",
    "model.compile(optimizer='SGD',loss='binary_crossentropy',metrics=['accuracy'])\n",
    "model.fit(train_set,validation_data=test_set,epochs=5)"
   ]
  },
  {
   "cell_type": "markdown",
   "metadata": {},
   "source": [
    "## Prediction with single data"
   ]
  },
  {
   "cell_type": "code",
   "execution_count": 20,
   "metadata": {},
   "outputs": [],
   "source": [
    "from keras.preprocessing import image\n",
    "val_sets=image.load_img('output/val/withoutmask/without_mask_16.jpg',target_size=(150,150))"
   ]
  },
  {
   "cell_type": "code",
   "execution_count": 21,
   "metadata": {},
   "outputs": [],
   "source": [
    "val_sets=image.img_to_array(val_sets)\n",
    "val_sets=np.expand_dims(val_sets,axis=0)"
   ]
  },
  {
   "cell_type": "code",
   "execution_count": 22,
   "metadata": {},
   "outputs": [
    {
     "data": {
      "text/plain": [
       "array([[1.]], dtype=float32)"
      ]
     },
     "execution_count": 22,
     "metadata": {},
     "output_type": "execute_result"
    }
   ],
   "source": [
    "y_predict=model.predict(val_sets)\n",
    "y_predict"
   ]
  },
  {
   "cell_type": "code",
   "execution_count": 23,
   "metadata": {},
   "outputs": [],
   "source": [
    "if y_predict[0][0]==1:\n",
    "    prediction='No mask'\n",
    "else:\n",
    "    prediction='mask'"
   ]
  },
  {
   "cell_type": "code",
   "execution_count": 24,
   "metadata": {},
   "outputs": [
    {
     "data": {
      "text/plain": [
       "'No mask'"
      ]
     },
     "execution_count": 24,
     "metadata": {},
     "output_type": "execute_result"
    }
   ],
   "source": [
    "prediction"
   ]
  },
  {
   "cell_type": "markdown",
   "metadata": {},
   "source": [
    "# "
   ]
  },
  {
   "cell_type": "code",
   "execution_count": 101,
   "metadata": {},
   "outputs": [],
   "source": [
    "model.save('mask_model.h5')"
   ]
  },
  {
   "cell_type": "code",
   "execution_count": 12,
   "metadata": {},
   "outputs": [],
   "source": [
    "import tensorflow as tf\n",
    "model=tf.keras.models.load_model('mask_model.h5')"
   ]
  },
  {
   "cell_type": "code",
   "execution_count": null,
   "metadata": {},
   "outputs": [],
   "source": []
  }
 ],
 "metadata": {
  "kernelspec": {
   "display_name": "Python 3",
   "language": "python",
   "name": "python3"
  },
  "language_info": {
   "codemirror_mode": {
    "name": "ipython",
    "version": 3
   },
   "file_extension": ".py",
   "mimetype": "text/x-python",
   "name": "python",
   "nbconvert_exporter": "python",
   "pygments_lexer": "ipython3",
   "version": "3.8.5"
  }
 },
 "nbformat": 4,
 "nbformat_minor": 4
}
